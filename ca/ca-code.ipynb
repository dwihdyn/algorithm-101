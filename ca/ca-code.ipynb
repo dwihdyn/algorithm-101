{
 "cells": [
  {
   "cell_type": "markdown",
   "metadata": {},
   "source": [
    "- this code acts as supplement from the slide to understand better, use it side-by-side to understand as a whole\n",
    "- lecture : https://www.youtube.com/watch?v=bFLJgycI1zk"
   ]
  },
  {
   "cell_type": "markdown",
   "metadata": {},
   "source": [
    "# Common Algorithm\n",
    "- GOAL : explains how useful hash table concept is, where it can slash time compexity of almost all algorithm more than half (if used properly)"
   ]
  },
  {
   "cell_type": "markdown",
   "metadata": {},
   "source": [
    "### Time Complexity\n",
    "\n",
    "aim is to reduce it -> to linear O(1) if possible"
   ]
  },
  {
   "cell_type": "code",
   "execution_count": 2,
   "metadata": {},
   "outputs": [],
   "source": [
    "# O(N) time complexity\n",
    "def f0(x: list):\n",
    "    for i in range(len(x)):\n",
    "        print(x[i])\n",
    "    for j in range(len(x)):\n",
    "        print(x[j])"
   ]
  },
  {
   "cell_type": "code",
   "execution_count": 3,
   "metadata": {},
   "outputs": [
    {
     "name": "stdout",
     "output_type": "stream",
     "text": [
      "1\n",
      "2\n",
      "3\n",
      "1\n",
      "2\n",
      "3\n"
     ]
    }
   ],
   "source": [
    "f0([1,2,3])"
   ]
  },
  {
   "cell_type": "code",
   "execution_count": 4,
   "metadata": {},
   "outputs": [],
   "source": [
    "# O(N^2) time complexity\n",
    "def f1(x: list):\n",
    "   for i in range(len(x)):\n",
    "       for j in range(i, len(x)):\n",
    "          print(x[i], x[j])"
   ]
  },
  {
   "cell_type": "code",
   "execution_count": 6,
   "metadata": {},
   "outputs": [
    {
     "name": "stdout",
     "output_type": "stream",
     "text": [
      "1 1\n",
      "1 2\n",
      "1 3\n",
      "2 2\n",
      "2 3\n",
      "3 3\n"
     ]
    }
   ],
   "source": [
    "f1([1,2,3])"
   ]
  },
  {
   "cell_type": "code",
   "execution_count": 7,
   "metadata": {},
   "outputs": [],
   "source": [
    "# O(N^3) time complexity\n",
    "def f2(x: list):\n",
    "   for i in range(len(x)):\n",
    "       for j in range(i, len(x)):\n",
    "          for k in range(j, len(x)):\n",
    "              print(x[i], x[j], x[k])"
   ]
  },
  {
   "cell_type": "code",
   "execution_count": 8,
   "metadata": {},
   "outputs": [
    {
     "name": "stdout",
     "output_type": "stream",
     "text": [
      "1 1 1\n",
      "1 1 2\n",
      "1 1 3\n",
      "1 2 2\n",
      "1 2 3\n",
      "1 3 3\n",
      "2 2 2\n",
      "2 2 3\n",
      "2 3 3\n",
      "3 3 3\n"
     ]
    }
   ],
   "source": [
    "f2([1,2,3])"
   ]
  },
  {
   "cell_type": "markdown",
   "metadata": {},
   "source": [
    "### Hash table\n",
    "hash table is what makes python dictionary possible"
   ]
  },
  {
   "cell_type": "code",
   "execution_count": 9,
   "metadata": {},
   "outputs": [
    {
     "name": "stdout",
     "output_type": "stream",
     "text": [
      "5\n"
     ]
    }
   ],
   "source": [
    "# example of python dictionary\n",
    "ages = {\"Bob\": 5, \"Mary\": 13, \"John:\": 22}\n",
    "\n",
    "#search/get/retrieve\n",
    "print(ages[\"Bob\"]) #=> 5\n",
    "\n",
    "#delete\n",
    "del ages[\"Bob\"]\n",
    "\n",
    "#insert/assignment\n",
    "ages[\"Aaron\"] = 17"
   ]
  },
  {
   "cell_type": "markdown",
   "metadata": {},
   "source": [
    "### Two Sum Problem\n",
    "\n",
    "- Given an array of integers, return indices of the two numbers such that they add up to a specific target.\n",
    "- Here we will show different methods that each has different time complexity"
   ]
  },
  {
   "cell_type": "code",
   "execution_count": 41,
   "metadata": {},
   "outputs": [],
   "source": [
    "nums = [2, 13, 16, 8]\n",
    "target = 10\n",
    "# expected result [0, 3]"
   ]
  },
  {
   "cell_type": "code",
   "execution_count": 42,
   "metadata": {},
   "outputs": [],
   "source": [
    "# solution1 : O(N^2)\n",
    "def sol1(nums, target):\n",
    "    for i in range(len(nums)):\n",
    "        for j in range(i + 1, len(nums)):\n",
    "            if nums[i] + nums[j] == target:\n",
    "                return [i, j]"
   ]
  },
  {
   "cell_type": "code",
   "execution_count": 43,
   "metadata": {},
   "outputs": [
    {
     "data": {
      "text/plain": [
       "[0, 3]"
      ]
     },
     "execution_count": 43,
     "metadata": {},
     "output_type": "execute_result"
    }
   ],
   "source": [
    "sol1(nums,target)"
   ]
  },
  {
   "cell_type": "code",
   "execution_count": 44,
   "metadata": {},
   "outputs": [],
   "source": [
    "# solution2 : O(1), thanks to hash table\n",
    "def sol2(nums, target):\n",
    "    seen = {}\n",
    "    for i in range(len(nums)):\n",
    "        if (target - nums[i]) in seen: # O(1)\n",
    "            return [seen[target - nums[i]], i] # slide missed the i behind\n",
    "        else:\n",
    "            seen[nums[i]] = i  #O(1)"
   ]
  },
  {
   "cell_type": "code",
   "execution_count": 45,
   "metadata": {},
   "outputs": [
    {
     "data": {
      "text/plain": [
       "[0, 3]"
      ]
     },
     "execution_count": 45,
     "metadata": {},
     "output_type": "execute_result"
    }
   ],
   "source": [
    "sol2(nums,target)"
   ]
  },
  {
   "cell_type": "markdown",
   "metadata": {},
   "source": [
    "### Binary Search\n",
    "- using \"search & sort\" idea into binary search"
   ]
  },
  {
   "cell_type": "code",
   "execution_count": 55,
   "metadata": {},
   "outputs": [],
   "source": [
    "# time complexity O(log(N))\n",
    "\n",
    "def binarySearch(arr, x):\n",
    "    arr.sort()   # kinda cheating here lol\n",
    "    l = 0\n",
    "    r = len(arr) - 1 \n",
    "    while l <= r:\n",
    "        mid = l + (r - l) // 2; \n",
    "        if arr[mid] == x:\n",
    "            return mid\n",
    "        elif arr[mid] < x:\n",
    "            l = mid + 1\n",
    "        else:\n",
    "            r = mid - 1\n",
    "            \n",
    "    return -1\n",
    "\n",
    "arr = [1,18,5,6,20,13,17,21,3,9,11,4,6,10,11,10,21,23,25,30]\n",
    "x = 17"
   ]
  },
  {
   "cell_type": "code",
   "execution_count": 56,
   "metadata": {},
   "outputs": [
    {
     "data": {
      "text/plain": [
       "12"
      ]
     },
     "execution_count": 56,
     "metadata": {},
     "output_type": "execute_result"
    }
   ],
   "source": [
    "binarySearch(arr,x)"
   ]
  },
  {
   "cell_type": "markdown",
   "metadata": {},
   "source": [
    "### MergeSort method\n",
    "- A out-of-place, stable sorting algorithm\n",
    "- Uses the Divide and Conquer strategy\n",
    "- below example show how `sort()` function works under the hood"
   ]
  },
  {
   "cell_type": "code",
   "execution_count": 61,
   "metadata": {},
   "outputs": [],
   "source": [
    "# time complexity O(N log N) , breakdown calculation see slide\n",
    "\n",
    "def mergeSort(arr):\n",
    "    if len(arr) >1:\n",
    "        mid = len(arr)//2 # Finding the mid of the array\n",
    "        L = arr[:mid] # Dividing the array elements\n",
    "        R = arr[mid:] # into 2 halves\n",
    "        mergeSort(L) # Sorting the first half\n",
    "        mergeSort(R) # Sorting the second half\n",
    "        i = j = k = 0\n",
    "        while i < len(L) and j < len(R):\n",
    "            if L[i] < R[j]:\n",
    "                arr[k] = L[i]\n",
    "                i+= 1\n",
    "            else:\n",
    "                arr[k] = R[j]\n",
    "                j+= 1\n",
    "                \n",
    "            k+= 1\n",
    "                \n",
    "        while i < len(L):\n",
    "            arr[k] = L[i]\n",
    "            i+= 1\n",
    "            k+= 1\n",
    "                \n",
    "        while j < len(R):\n",
    "            arr[k] = R[j]\n",
    "            j+= 1\n",
    "            k+= 1\n",
    "\n",
    "arr = [38,27,43,3,9,82,10]"
   ]
  },
  {
   "cell_type": "code",
   "execution_count": 62,
   "metadata": {},
   "outputs": [
    {
     "data": {
      "text/plain": [
       "[3, 9, 10, 27, 38, 43, 82]"
      ]
     },
     "execution_count": 62,
     "metadata": {},
     "output_type": "execute_result"
    }
   ],
   "source": [
    "mergeSort(arr)\n",
    "arr"
   ]
  },
  {
   "cell_type": "code",
   "execution_count": null,
   "metadata": {},
   "outputs": [],
   "source": []
  }
 ],
 "metadata": {
  "kernelspec": {
   "display_name": "shopee",
   "language": "python",
   "name": "shopee"
  },
  "language_info": {
   "codemirror_mode": {
    "name": "ipython",
    "version": 3
   },
   "file_extension": ".py",
   "mimetype": "text/x-python",
   "name": "python",
   "nbconvert_exporter": "python",
   "pygments_lexer": "ipython3",
   "version": "3.6.10"
  }
 },
 "nbformat": 4,
 "nbformat_minor": 4
}
