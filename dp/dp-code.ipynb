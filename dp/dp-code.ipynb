{
 "cells": [
  {
   "cell_type": "markdown",
   "metadata": {},
   "source": [
    "- this code acts as supplement from the slide to understand better, use it side-by-side to understand as a whole\n",
    "- lecture : https://www.youtube.com/watch?v=RZb-MQlW3uw&t=1189s"
   ]
  },
  {
   "cell_type": "markdown",
   "metadata": {},
   "source": [
    "# Dynamic Programming\n",
    "- GOAL : show how top bottom & bottom up can reduce time complexity of an algorithm\n",
    "\n",
    "<br/>\n",
    "\n",
    "- Topdown : more intiutive because of recursion + memo\n",
    "- Bottom-Up : more efficient, and easier to optimise for space complexity"
   ]
  },
  {
   "cell_type": "markdown",
   "metadata": {},
   "source": [
    "### Fibonacci number\n",
    "- will show from \"simple but slowest\" to \"complex but fast\" fibonacci number generator, thanks to dynamic programming"
   ]
  },
  {
   "cell_type": "code",
   "execution_count": 6,
   "metadata": {},
   "outputs": [
    {
     "data": {
      "text/plain": [
       "55"
      ]
     },
     "execution_count": 6,
     "metadata": {},
     "output_type": "execute_result"
    }
   ],
   "source": [
    "# time complexity : O(2^(N/2)) its exponential! bad! slow! booooo!\n",
    "def fib(n):\n",
    "    if n == 0 or n == 1:\n",
    "        return n\n",
    "    return fib(n-1) + fib(n-2)\n",
    "\n",
    "fib(10)   # will be super slow if u pick n > 1000 (pls dont do that)"
   ]
  },
  {
   "cell_type": "code",
   "execution_count": 12,
   "metadata": {},
   "outputs": [
    {
     "data": {
      "text/plain": [
       "55"
      ]
     },
     "execution_count": 12,
     "metadata": {},
     "output_type": "execute_result"
    }
   ],
   "source": [
    "# method1 : TOPDOWN -> storing past result\n",
    "# time complexity : O(N)\n",
    "def fib_topdown(n):\n",
    "    memo = {}\n",
    "    def fib(n):\n",
    "        if n in memo:\n",
    "            return memo[n]\n",
    "        if n == 0 or n == 1: \n",
    "            return n\n",
    "        memo[n] = fib(n-1) + fib(n-2)\n",
    "        return memo[n]\n",
    "        \n",
    "    return fib(n)\n",
    "\n",
    "fib_topdown(10)"
   ]
  },
  {
   "cell_type": "code",
   "execution_count": 9,
   "metadata": {},
   "outputs": [
    {
     "data": {
      "text/plain": [
       "55"
      ]
     },
     "execution_count": 9,
     "metadata": {},
     "output_type": "execute_result"
    }
   ],
   "source": [
    "# method2.1 : iterative approach\n",
    "# time complexity : O(N)\n",
    "def solve_fib(n):\n",
    "    if n == 0 or n == 1:\n",
    "        return n\n",
    "    fib = [0] * (n+1) \n",
    "    fib[1] = 1\n",
    "    for i in range(2, n+1):\n",
    "        fib[i] = fib[i-1]+fib[i-2]\n",
    "        \n",
    "    return fib[n]\n",
    "\n",
    "solve_fib(10)"
   ]
  },
  {
   "cell_type": "code",
   "execution_count": 13,
   "metadata": {},
   "outputs": [
    {
     "data": {
      "text/plain": [
       "55"
      ]
     },
     "execution_count": 13,
     "metadata": {},
     "output_type": "execute_result"
    }
   ],
   "source": [
    "# method2.2 : BOTTOMUP -> iterative approach\n",
    "# time complexity : O(N)\n",
    "def fib_bottomup(n):\n",
    "    if n == 0 or n == 1:\n",
    "        return n\n",
    "    fib_n2, fib_n1 = 0, 1\n",
    "    for i in range(n-1):\n",
    "        fib = fib_n2 + fib_n1\n",
    "        fib_n2, fib_n1 = fib_n1, fib\n",
    "        \n",
    "    return fib\n",
    "\n",
    "fib_bottomup(10)"
   ]
  },
  {
   "cell_type": "markdown",
   "metadata": {},
   "source": []
  },
  {
   "cell_type": "markdown",
   "metadata": {},
   "source": [
    "# Below still work-in-progress\n",
    "\n",
    "something is not right from the output"
   ]
  },
  {
   "cell_type": "markdown",
   "metadata": {},
   "source": []
  },
  {
   "cell_type": "markdown",
   "metadata": {},
   "source": [
    "### Longest Increasing Subsequence\n",
    "- Given input: n numbers: x1, x2, ... xn\n",
    "- Task: find the length of longest increasing\n",
    "subsequence"
   ]
  },
  {
   "cell_type": "code",
   "execution_count": 14,
   "metadata": {},
   "outputs": [],
   "source": [
    "arr = [0, 8, 4, 12, 2, 10, 6, 14, 1, 9, 5, 13, 3, 11, 7, 15]\n",
    "# expected result [0, 2, 6, 9, 11, 15]"
   ]
  },
  {
   "cell_type": "code",
   "execution_count": 15,
   "metadata": {},
   "outputs": [],
   "source": [
    "# method1 : brute force (recursion)\n",
    "def solve_lis(arr, i, prev):\n",
    "    if i == len(arr):\n",
    "        return 0\n",
    "    \n",
    "    excl_i = solve_lis(arr, i + 1, prev)\n",
    "    incl_i = 0\n",
    "    if arr[i] > prev:\n",
    "        incl_i = 1 + solve_lis(arr, i + 1, arr[i])\n",
    "        \n",
    "    return max(incl_i, excl_i)"
   ]
  },
  {
   "cell_type": "code",
   "execution_count": 18,
   "metadata": {},
   "outputs": [
    {
     "data": {
      "text/plain": [
       "5"
      ]
     },
     "execution_count": 18,
     "metadata": {},
     "output_type": "execute_result"
    }
   ],
   "source": [
    "solve_lis(arr,0,0)"
   ]
  },
  {
   "cell_type": "code",
   "execution_count": 19,
   "metadata": {},
   "outputs": [],
   "source": [
    "# method2 : Top down (recursion + memoization)\n",
    "def solve(arr):\n",
    "    memo = {}\n",
    "    def solve_lis(arr, i, prev):\n",
    "        if i == len(arr):\n",
    "            return 0\n",
    "        if (i, prev) in memo:\n",
    "            return memo[(i, prev)]\n",
    "\n",
    "        excl_i = solve_lis(arr, i + 1, prev) \n",
    "        incl_i = 0\n",
    "        if arr[i] > prev:\n",
    "            incl_i = 1 + solve_lis(arr, i + 1, arr[i])\n",
    "        \n",
    "        memo[(i, prev)] = max(incl_i, excl_i)\n",
    "        return memo[(i, prev)]\n",
    "    return solve_lis(arr, 0, 0)"
   ]
  },
  {
   "cell_type": "code",
   "execution_count": 21,
   "metadata": {},
   "outputs": [
    {
     "data": {
      "text/plain": [
       "5"
      ]
     },
     "execution_count": 21,
     "metadata": {},
     "output_type": "execute_result"
    }
   ],
   "source": [
    "solve(arr)"
   ]
  },
  {
   "cell_type": "code",
   "execution_count": 22,
   "metadata": {},
   "outputs": [],
   "source": [
    "# method3 : Bottom up\n",
    "def solve_lis(arr):\n",
    "    n = len(arr)\n",
    "    lis = [1]*n\n",
    "    \n",
    "    for i in range(1, n):\n",
    "        for j in range(0, i):\n",
    "            if arr[i] > arr[j]:\n",
    "                lis[i] = max(lis[i], lis[j]+1)\n",
    "                \n",
    "    return max(lis)"
   ]
  },
  {
   "cell_type": "code",
   "execution_count": 23,
   "metadata": {},
   "outputs": [
    {
     "data": {
      "text/plain": [
       "6"
      ]
     },
     "execution_count": 23,
     "metadata": {},
     "output_type": "execute_result"
    }
   ],
   "source": [
    "solve_lis(arr)"
   ]
  },
  {
   "cell_type": "code",
   "execution_count": null,
   "metadata": {},
   "outputs": [],
   "source": []
  }
 ],
 "metadata": {
  "kernelspec": {
   "display_name": "shopee",
   "language": "python",
   "name": "shopee"
  },
  "language_info": {
   "codemirror_mode": {
    "name": "ipython",
    "version": 3
   },
   "file_extension": ".py",
   "mimetype": "text/x-python",
   "name": "python",
   "nbconvert_exporter": "python",
   "pygments_lexer": "ipython3",
   "version": "3.6.10"
  }
 },
 "nbformat": 4,
 "nbformat_minor": 4
}
